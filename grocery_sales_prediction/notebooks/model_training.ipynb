{
 "cells": [
  {
   "cell_type": "code",
   "id": "initial_id",
   "metadata": {
    "collapsed": true,
    "ExecuteTime": {
     "end_time": "2024-12-09T11:23:56.624110Z",
     "start_time": "2024-12-09T11:23:56.610505Z"
    }
   },
   "source": [
    "from time import process_time\n",
    "\n",
    "from utils import preprocess_data\n",
    "import pandas as pd\n",
    "import numpy as np\n",
    "from sklearn.model_selection import train_test_split\n",
    "from sklearn.linear_model import LinearRegression\n",
    "from sklearn.ensemble import RandomForestRegressor\n",
    "from sklearn.tree import DecisionTreeRegressor\n",
    "from sklearn.svm import SVR\n",
    "from sklearn.neighbors import KNeighborsRegressor\n",
    "from sklearn.neural_network import MLPRegressor\n",
    "from sklearn.linear_model import Ridge,Lasso,ElasticNet,BayesianRidge,ARDRegression\n",
    "from xgboost import XGBRegressor\n",
    "from sklearn.metrics import mean_squared_error, r2_score\n",
    "import joblib"
   ],
   "outputs": [],
   "execution_count": 39
  },
  {
   "metadata": {
    "ExecuteTime": {
     "end_time": "2024-12-09T11:21:01.805092Z",
     "start_time": "2024-12-09T11:21:01.787875Z"
    }
   },
   "cell_type": "code",
   "source": "df=pd.read_csv('C:/Users/thefl/Documents/infosys_internship_2024/Git_tracks/GN ML/grocery_sales_prediction/data_alchemy/raw/Train.csv')",
   "id": "875cd1abb59e6e6",
   "outputs": [],
   "execution_count": 33
  },
  {
   "metadata": {
    "ExecuteTime": {
     "end_time": "2024-12-09T11:21:02.178789Z",
     "start_time": "2024-12-09T11:21:02.110862Z"
    }
   },
   "cell_type": "code",
   "source": [
    "import pandas as pd\n",
    "import numpy as np\n",
    "from sklearn.preprocessing import OneHotEncoder, OrdinalEncoder\n",
    "\n",
    "# Starting with df as your raw dataframe.\n",
    "df = df.copy()\n",
    "Y=df['Item_Outlet_Sales']\n",
    "# Drop unnecessary columns if present\n",
    "df.drop(columns=['Item_Identifier', 'Item_Outlet_Sales'], errors='ignore', inplace=True)\n",
    "\n",
    "# Handle outliers for numeric columns\n",
    "for column in df.select_dtypes(include='number').columns:\n",
    "    Q1 = df[column].quantile(0.25)\n",
    "    Q3 = df[column].quantile(0.75)\n",
    "    IQR = Q3 - Q1\n",
    "    lower_bound = Q1 - 1.5 * IQR\n",
    "    upper_bound = Q3 + 1.5 * IQR\n",
    "    df[column] = df[column].apply(\n",
    "        lambda x: lower_bound if x < lower_bound else (upper_bound if x > upper_bound else x)\n",
    "    )\n",
    "\n",
    "# Fill missing values\n",
    "df['Item_Weight'] = df.groupby('Item_Type')['Item_Weight'].transform(\n",
    "    lambda x: x.fillna(x.median())\n",
    ")\n",
    "df['Outlet_Size'] = df.groupby('Outlet_Type')['Outlet_Size'].transform(\n",
    "    lambda x: x.fillna(x.mode()[0] if not x.mode().empty else 'Medium')\n",
    ")\n",
    "\n",
    "# Standardize 'Item_Fat_Content'\n",
    "df['Item_Fat_Content'] = df['Item_Fat_Content'].replace(\n",
    "    {'LF': 'Low Fat', 'low fat': 'Low Fat', 'reg': 'Regular'}\n",
    ")\n",
    "\n",
    "# Create 'Years_Since_Establishment'\n",
    "df['Years_Since_Establishment'] = 2024 - df['Outlet_Establishment_Year']\n",
    "\n",
    "# Create 'Item_Visibility_Bins' with fixed bins and labels\n",
    "# Here, we assume the max visibility in df to create consistent bins\n",
    "max_visibility = df['Item_Visibility'].max()\n",
    "bins = [-0.001, 0.05, 0.15, max_visibility + 0.001]\n",
    "labels = ['Low', 'Medium', 'High']\n",
    "df['Item_Visibility_Bins'] = pd.cut(\n",
    "    df['Item_Visibility'],\n",
    "    bins=bins,\n",
    "    labels=labels,\n",
    "    include_lowest=True\n",
    ")\n",
    "\n",
    "# Since we are not reusing any encoders, let's just drop 'Outlet_Identifier'\n",
    "# or if we need a mean sales encoding, we can do it directly from df if\n",
    "# 'Item_Outlet_Sales' was originally present. However, since we're not saving/loading,\n",
    "# and the user said they don't want to reuse anything, we'll skip mean target encoding.\n",
    "# If you have the original dataframe (with 'Item_Outlet_Sales'), you can do:\n",
    "# mean_sales_mapping = original_df.groupby('Outlet_Identifier')['Item_Outlet_Sales'].mean().to_dict()\n",
    "# global_mean_sales = original_df['Item_Outlet_Sales'].mean()\n",
    "# df['Outlet_Identifier_Mean_Sales'] = df['Outlet_Identifier'].map(mean_sales_mapping).fillna(global_mean_sales)\n",
    "\n",
    "# For demonstration, if no mean encoding is needed, just drop 'Outlet_Identifier':\n",
    "df.drop('Outlet_Identifier', axis=1, inplace=True)\n",
    "\n",
    "# Encoding\n",
    "nominal_columns = ['Item_Fat_Content', 'Item_Type', 'Outlet_Type']\n",
    "ordinal_columns = ['Item_Visibility_Bins', 'Outlet_Size', 'Outlet_Location_Type']\n",
    "\n",
    "# One-Hot Encoding for nominal columns\n",
    "ohe = OneHotEncoder(sparse_output=False, handle_unknown='ignore', drop='first')\n",
    "encoded_nominal = ohe.fit_transform(df[nominal_columns])\n",
    "encoded_nominal_df = pd.DataFrame(\n",
    "    encoded_nominal, columns=ohe.get_feature_names_out(nominal_columns)\n",
    ")\n",
    "df.reset_index(drop=True, inplace=True)\n",
    "encoded_nominal_df.reset_index(drop=True, inplace=True)\n",
    "df = pd.concat([df, encoded_nominal_df], axis=1)\n",
    "df.drop(nominal_columns, axis=1, inplace=True)\n",
    "\n",
    "# Ordinal Encoding for ordinal columns\n",
    "# Fixed categories as per the original code:\n",
    "ordinal_categories = [\n",
    "    ['Low', 'Medium', 'High'],    # For Item_Visibility_Bins\n",
    "    ['Small', 'Medium', 'High'],  # For Outlet_Size\n",
    "    ['Tier 1', 'Tier 2', 'Tier 3'] # For Outlet_Location_Type\n",
    "]\n",
    "ordinal_encoder = OrdinalEncoder(\n",
    "    categories=ordinal_categories, handle_unknown='use_encoded_value', unknown_value=-1\n",
    ")\n",
    "df[ordinal_columns] = ordinal_encoder.fit_transform(df[ordinal_columns])\n",
    "\n",
    "# Log transform 'Item_Visibility'\n",
    "df['Item_Visibility_Log'] = np.log1p(df['Item_Visibility'])\n",
    "df.drop('Item_Visibility', axis=1, inplace=True)\n",
    "\n",
    "# Drop 'Outlet_Establishment_Year' as it's not needed\n",
    "df.drop('Outlet_Establishment_Year', axis=1, inplace=True)\n",
    "\n",
    "# Now `df` is preprocessed similarly to what the function did, but inline, with no saving or loading.\n"
   ],
   "id": "c239d4a88cd06935",
   "outputs": [],
   "execution_count": 34
  },
  {
   "metadata": {
    "ExecuteTime": {
     "end_time": "2024-12-09T11:23:48.824537Z",
     "start_time": "2024-12-09T11:23:48.820915Z"
    }
   },
   "cell_type": "code",
   "source": [
    "x=df\n",
    "y=Y"
   ],
   "id": "66405a79a13fa83",
   "outputs": [],
   "execution_count": 37
  },
  {
   "metadata": {
    "ExecuteTime": {
     "end_time": "2024-12-09T11:27:01.357466Z",
     "start_time": "2024-12-09T11:27:01.352735Z"
    }
   },
   "cell_type": "code",
   "source": [
    "models={\n",
    "    \"Random Forest\":RandomForestRegressor(),\n",
    "    \"Decision Tree\":DecisionTreeRegressor(),\n",
    "    \"Linear Regression\":LinearRegression(),\n",
    "    \"SVR\":SVR(),\n",
    "    \"KNN\":KNeighborsRegressor(),\n",
    "    \"MLP\":MLPRegressor(),\n",
    "    \"Ridge\":Ridge(),\n",
    "    \"Lasso\":Lasso(),\n",
    "    \"ElasticNet\":ElasticNet(),\n",
    "    \"BayesianRidge\":BayesianRidge(),\n",
    "    \"ARDRegression\":ARDRegression(),\n",
    "    \"XGBRegressor\":XGBRegressor()\n",
    "    \n",
    "}"
   ],
   "id": "5aff645236e5ad6d",
   "outputs": [],
   "execution_count": 42
  },
  {
   "metadata": {
    "ExecuteTime": {
     "end_time": "2024-12-09T11:27:01.832851Z",
     "start_time": "2024-12-09T11:27:01.825224Z"
    }
   },
   "cell_type": "code",
   "source": "x_train,x_test,y_train,y_test=train_test_split(x,y,test_size=0.2,random_state=42)",
   "id": "207f8f64c8668cc2",
   "outputs": [],
   "execution_count": 43
  },
  {
   "metadata": {
    "ExecuteTime": {
     "end_time": "2024-12-09T11:28:29.482248Z",
     "start_time": "2024-12-09T11:28:18.530559Z"
    }
   },
   "cell_type": "code",
   "source": [
    "for model in models:\n",
    "    models[model].fit(x_train,y_train)\n",
    "    y_pred=models[model].predict(x_test)\n",
    "    # print(f\"{model} MSE: {mean_squared_error(y_test,y_pred)}\")\n",
    "    print(f\"{model} R2: {r2_score(y_test,y_pred)}\")\n",
    "    "
   ],
   "id": "898162b79a5fc692",
   "outputs": [
    {
     "name": "stdout",
     "output_type": "stream",
     "text": [
      "Random Forest R2: 0.5547915991486003\n",
      "Decision Tree R2: 0.17403570757678444\n",
      "Linear Regression R2: 0.5778731205228473\n",
      "SVR R2: 0.19980780723442826\n",
      "KNN R2: 0.47205106667737495\n"
     ]
    },
    {
     "name": "stderr",
     "output_type": "stream",
     "text": [
      "E:\\Anaconda_Files_User\\envs\\ml\\Lib\\site-packages\\sklearn\\neural_network\\_multilayer_perceptron.py:690: ConvergenceWarning: Stochastic Optimizer: Maximum iterations (200) reached and the optimization hasn't converged yet.\n",
      "  warnings.warn(\n"
     ]
    },
    {
     "name": "stdout",
     "output_type": "stream",
     "text": [
      "MLP R2: 0.43641267288622587\n",
      "Ridge R2: 0.5780766051662762\n",
      "Lasso R2: 0.5792089599166547\n",
      "ElasticNet R2: 0.3910568907813565\n",
      "BayesianRidge R2: 0.5781752121273328\n",
      "ARDRegression R2: 0.579102037417581\n",
      "XGBRegressor R2: 0.5218032309855247\n"
     ]
    }
   ],
   "execution_count": 45
  },
  {
   "metadata": {
    "ExecuteTime": {
     "end_time": "2024-12-09T11:31:14.419490Z",
     "start_time": "2024-12-09T11:31:11.169590Z"
    }
   },
   "cell_type": "code",
   "source": [
    "from sklearn.model_selection import train_test_split\n",
    "from sklearn.ensemble import RandomForestRegressor\n",
    "from sklearn.linear_model import Lasso, Ridge\n",
    "from sklearn.metrics import r2_score\n",
    "from xgboost import XGBRegressor\n",
    "\n",
    "# Assuming x and y are defined as in your provided code\n",
    "x_train, x_test, y_train, y_test = train_test_split(x, y, test_size=0.2, random_state=42)\n",
    "\n",
    "# List of models based on their previous performance\n",
    "models = [\n",
    "    (\"Lasso\", Lasso()),\n",
    "    (\"Ridge\", Ridge()),\n",
    "    (\"Random Forest\", RandomForestRegressor()),\n",
    "    (\"XGBRegressor\", XGBRegressor())\n",
    "]\n",
    "\n",
    "best_model_name = None\n",
    "best_score = float('-inf')\n",
    "\n",
    "for name, model in models:\n",
    "    model.fit(x_train, y_train)\n",
    "    y_pred = model.predict(x_test)\n",
    "    score = r2_score(y_test, y_pred)\n",
    "    print(f\"{name} R2: {score}\")\n",
    "    if score > best_score:\n",
    "        best_score = score\n",
    "        best_model_name = name\n",
    "\n",
    "print(f\"Best Model: {best_model_name} with R2: {best_score}\")"
   ],
   "id": "2956f09b8eaeef06",
   "outputs": [
    {
     "name": "stdout",
     "output_type": "stream",
     "text": [
      "Lasso R2: 0.5792089599166547\n",
      "Ridge R2: 0.5780766051662762\n",
      "Random Forest R2: 0.5519289772602745\n",
      "XGBRegressor R2: 0.5218032309855247\n",
      "Best Model: Lasso with R2: 0.5792089599166547\n"
     ]
    }
   ],
   "execution_count": 47
  },
  {
   "metadata": {
    "ExecuteTime": {
     "end_time": "2024-12-09T11:35:28.299921Z",
     "start_time": "2024-12-09T11:34:03.851217Z"
    }
   },
   "cell_type": "code",
   "source": [
    "from sklearn.model_selection import train_test_split\n",
    "from sklearn.metrics import r2_score\n",
    "from keras.models import Sequential\n",
    "from keras.layers import Dense\n",
    "\n",
    "x_train, x_test, y_train, y_test = train_test_split(x, y, test_size=0.2, random_state=42)\n",
    "\n",
    "# Define a simple feedforward neural network\n",
    "model = Sequential([\n",
    "    Dense(64, input_dim=x_train.shape[1], activation='relu'),\n",
    "    Dense(32, activation='relu'),\n",
    "    Dense(1)\n",
    "])\n",
    "\n",
    "# Compile the model\n",
    "model.compile(optimizer='adam', loss='mean_squared_error')\n",
    "\n",
    "# Fit the model\n",
    "model.fit(x_train, y_train, epochs=50, batch_size=10, verbose=1)\n",
    "\n",
    "# Predict and evaluate the model\n",
    "y_pred = model.predict(x_test)\n",
    "score = r2_score(y_test, y_pred)\n",
    "\n",
    "print(f\"Deep Learning Model R2: {score}\")"
   ],
   "id": "2048c8d807c4eb28",
   "outputs": [
    {
     "name": "stderr",
     "output_type": "stream",
     "text": [
      "E:\\Anaconda_Files_User\\envs\\ml\\Lib\\site-packages\\keras\\src\\layers\\core\\dense.py:87: UserWarning: Do not pass an `input_shape`/`input_dim` argument to a layer. When using Sequential models, prefer using an `Input(shape)` object as the first layer in the model instead.\n",
      "  super().__init__(activity_regularizer=activity_regularizer, **kwargs)\n"
     ]
    },
    {
     "name": "stdout",
     "output_type": "stream",
     "text": [
      "\u001B[1m54/54\u001B[0m \u001B[32m━━━━━━━━━━━━━━━━━━━━\u001B[0m\u001B[37m\u001B[0m \u001B[1m0s\u001B[0m 1ms/step\n",
      "Deep Learning Model R2: 0.6054462259363997\n"
     ]
    }
   ],
   "execution_count": 50
  },
  {
   "metadata": {
    "ExecuteTime": {
     "end_time": "2024-12-09T11:38:39.883285Z",
     "start_time": "2024-12-09T11:38:14.278997Z"
    }
   },
   "cell_type": "code",
   "source": [
    "import matplotlib.pyplot as plt\n",
    "import numpy as np\n",
    "\n",
    "from sklearn.model_selection import train_test_split\n",
    "from sklearn.metrics import r2_score\n",
    "from tensorflow.keras.models import Sequential\n",
    "from tensorflow.keras.layers import Dense, Dropout\n",
    "from tensorflow.keras.regularizers import l2\n",
    "from tensorflow.keras.callbacks import EarlyStopping\n",
    "\n",
    "# Suppose x and y are already defined as your features and target\n",
    "# Split into train/test\n",
    "x_train_full, x_test, y_train_full, y_test = train_test_split(x, y, test_size=0.2, random_state=42)\n",
    "\n",
    "# Further split train_full into train/validation for model monitoring\n",
    "x_train, x_val, y_train, y_val = train_test_split(x_train_full, y_train_full, test_size=0.2, random_state=42)\n",
    "\n",
    "# Define a more advanced feedforward neural network with dropout and regularization\n",
    "model = Sequential([\n",
    "    Dense(128, input_dim=x_train.shape[1], activation='relu', kernel_regularizer=l2(0.001)),\n",
    "    Dropout(0.3),\n",
    "    Dense(64, activation='relu', kernel_regularizer=l2(0.001)),\n",
    "    Dropout(0.3),\n",
    "    Dense(32, activation='relu', kernel_regularizer=l2(0.001)),\n",
    "    Dense(1)\n",
    "])\n",
    "\n",
    "# Compile the model\n",
    "model.compile(optimizer='adam', loss='mean_squared_error')\n",
    "\n",
    "# Define Early Stopping callback - stop training when val_loss doesn't improve\n",
    "early_stopping = EarlyStopping(monitor='val_loss', patience=10, restore_best_weights=True)\n",
    "\n",
    "# Fit the model with validation data and early stopping\n",
    "history = model.fit(\n",
    "    x_train, \n",
    "    y_train, \n",
    "    epochs=200, \n",
    "    batch_size=32, \n",
    "    validation_data=(x_val, y_val),\n",
    "    callbacks=[early_stopping],\n",
    "    verbose=1\n",
    ")\n",
    "\n",
    "# Predict on test set and evaluate\n",
    "y_pred = model.predict(x_test)\n",
    "score = r2_score(y_test, y_pred)\n",
    "print(f\"Deep Learning Model R2: {score}\")\n",
    "\n",
    "# Plot training & validation loss\n",
    "plt.figure(figsize=(8,6))\n",
    "plt.plot(history.history['loss'], label='Training Loss')\n",
    "plt.plot(history.history['val_loss'], label='Validation Loss')\n",
    "plt.title('Training and Validation Loss Over Epochs')\n",
    "plt.xlabel('Epoch')\n",
    "plt.ylabel('Loss')\n",
    "plt.legend()\n",
    "plt.grid(True)\n",
    "plt.show()\n"
   ],
   "id": "6d445ad2f488aa37",
   "outputs": [
    {
     "name": "stdout",
     "output_type": "stream",
     "text": [
      "Epoch 1/200\n"
     ]
    },
    {
     "name": "stderr",
     "output_type": "stream",
     "text": [
      "E:\\Anaconda_Files_User\\envs\\ml\\Lib\\site-packages\\keras\\src\\layers\\core\\dense.py:87: UserWarning: Do not pass an `input_shape`/`input_dim` argument to a layer. When using Sequential models, prefer using an `Input(shape)` object as the first layer in the model instead.\n",
      "  super().__init__(activity_regularizer=activity_regularizer, **kwargs)\n"
     ]
    },
    {
     "name": "stdout",
     "output_type": "stream",
     "text": [
      "\u001B[1m171/171\u001B[0m \u001B[32m━━━━━━━━━━━━━━━━━━━━\u001B[0m\u001B[37m\u001B[0m \u001B[1m2s\u001B[0m 2ms/step - loss: 5895101.0000 - val_loss: 2059495.0000\n",
      "Epoch 2/200\n",
      "\u001B[1m171/171\u001B[0m \u001B[32m━━━━━━━━━━━━━━━━━━━━\u001B[0m\u001B[37m\u001B[0m \u001B[1m0s\u001B[0m 1ms/step - loss: 2050643.6250 - val_loss: 2080402.2500\n",
      "Epoch 3/200\n",
      "\u001B[1m171/171\u001B[0m \u001B[32m━━━━━━━━━━━━━━━━━━━━\u001B[0m\u001B[37m\u001B[0m \u001B[1m0s\u001B[0m 1ms/step - loss: 1992700.6250 - val_loss: 2026989.2500\n",
      "Epoch 4/200\n",
      "\u001B[1m171/171\u001B[0m \u001B[32m━━━━━━━━━━━━━━━━━━━━\u001B[0m\u001B[37m\u001B[0m \u001B[1m0s\u001B[0m 1ms/step - loss: 2146008.5000 - val_loss: 2026146.0000\n",
      "Epoch 5/200\n",
      "\u001B[1m171/171\u001B[0m \u001B[32m━━━━━━━━━━━━━━━━━━━━\u001B[0m\u001B[37m\u001B[0m \u001B[1m0s\u001B[0m 1ms/step - loss: 2062577.0000 - val_loss: 2007183.3750\n",
      "Epoch 6/200\n",
      "\u001B[1m171/171\u001B[0m \u001B[32m━━━━━━━━━━━━━━━━━━━━\u001B[0m\u001B[37m\u001B[0m \u001B[1m0s\u001B[0m 1ms/step - loss: 2031384.7500 - val_loss: 1955054.7500\n",
      "Epoch 7/200\n",
      "\u001B[1m171/171\u001B[0m \u001B[32m━━━━━━━━━━━━━━━━━━━━\u001B[0m\u001B[37m\u001B[0m \u001B[1m0s\u001B[0m 1ms/step - loss: 1902080.6250 - val_loss: 1948891.6250\n",
      "Epoch 8/200\n",
      "\u001B[1m171/171\u001B[0m \u001B[32m━━━━━━━━━━━━━━━━━━━━\u001B[0m\u001B[37m\u001B[0m \u001B[1m0s\u001B[0m 1ms/step - loss: 1919035.6250 - val_loss: 1893581.5000\n",
      "Epoch 9/200\n",
      "\u001B[1m171/171\u001B[0m \u001B[32m━━━━━━━━━━━━━━━━━━━━\u001B[0m\u001B[37m\u001B[0m \u001B[1m0s\u001B[0m 1ms/step - loss: 1837162.5000 - val_loss: 1842680.5000\n",
      "Epoch 10/200\n",
      "\u001B[1m171/171\u001B[0m \u001B[32m━━━━━━━━━━━━━━━━━━━━\u001B[0m\u001B[37m\u001B[0m \u001B[1m0s\u001B[0m 1ms/step - loss: 1865409.0000 - val_loss: 1803461.1250\n",
      "Epoch 11/200\n",
      "\u001B[1m171/171\u001B[0m \u001B[32m━━━━━━━━━━━━━━━━━━━━\u001B[0m\u001B[37m\u001B[0m \u001B[1m0s\u001B[0m 1ms/step - loss: 1787171.7500 - val_loss: 1762611.7500\n",
      "Epoch 12/200\n",
      "\u001B[1m171/171\u001B[0m \u001B[32m━━━━━━━━━━━━━━━━━━━━\u001B[0m\u001B[37m\u001B[0m \u001B[1m0s\u001B[0m 1ms/step - loss: 1675861.1250 - val_loss: 1722506.3750\n",
      "Epoch 13/200\n",
      "\u001B[1m171/171\u001B[0m \u001B[32m━━━━━━━━━━━━━━━━━━━━\u001B[0m\u001B[37m\u001B[0m \u001B[1m0s\u001B[0m 1ms/step - loss: 1707355.3750 - val_loss: 1712851.0000\n",
      "Epoch 14/200\n",
      "\u001B[1m171/171\u001B[0m \u001B[32m━━━━━━━━━━━━━━━━━━━━\u001B[0m\u001B[37m\u001B[0m \u001B[1m0s\u001B[0m 1ms/step - loss: 1712299.0000 - val_loss: 1637545.6250\n",
      "Epoch 15/200\n",
      "\u001B[1m171/171\u001B[0m \u001B[32m━━━━━━━━━━━━━━━━━━━━\u001B[0m\u001B[37m\u001B[0m \u001B[1m0s\u001B[0m 1ms/step - loss: 1602707.2500 - val_loss: 1660778.2500\n",
      "Epoch 16/200\n",
      "\u001B[1m171/171\u001B[0m \u001B[32m━━━━━━━━━━━━━━━━━━━━\u001B[0m\u001B[37m\u001B[0m \u001B[1m0s\u001B[0m 1ms/step - loss: 1636330.1250 - val_loss: 1585891.6250\n",
      "Epoch 17/200\n",
      "\u001B[1m171/171\u001B[0m \u001B[32m━━━━━━━━━━━━━━━━━━━━\u001B[0m\u001B[37m\u001B[0m \u001B[1m0s\u001B[0m 1ms/step - loss: 1628435.6250 - val_loss: 1531314.0000\n",
      "Epoch 18/200\n",
      "\u001B[1m171/171\u001B[0m \u001B[32m━━━━━━━━━━━━━━━━━━━━\u001B[0m\u001B[37m\u001B[0m \u001B[1m0s\u001B[0m 1ms/step - loss: 1549637.3750 - val_loss: 1533807.7500\n",
      "Epoch 19/200\n",
      "\u001B[1m171/171\u001B[0m \u001B[32m━━━━━━━━━━━━━━━━━━━━\u001B[0m\u001B[37m\u001B[0m \u001B[1m0s\u001B[0m 1ms/step - loss: 1667579.8750 - val_loss: 1499726.6250\n",
      "Epoch 20/200\n",
      "\u001B[1m171/171\u001B[0m \u001B[32m━━━━━━━━━━━━━━━━━━━━\u001B[0m\u001B[37m\u001B[0m \u001B[1m0s\u001B[0m 1ms/step - loss: 1470619.0000 - val_loss: 1418953.0000\n",
      "Epoch 21/200\n",
      "\u001B[1m171/171\u001B[0m \u001B[32m━━━━━━━━━━━━━━━━━━━━\u001B[0m\u001B[37m\u001B[0m \u001B[1m0s\u001B[0m 1ms/step - loss: 1395432.1250 - val_loss: 1490192.7500\n",
      "Epoch 22/200\n",
      "\u001B[1m171/171\u001B[0m \u001B[32m━━━━━━━━━━━━━━━━━━━━\u001B[0m\u001B[37m\u001B[0m \u001B[1m0s\u001B[0m 1ms/step - loss: 1473008.8750 - val_loss: 1378794.3750\n",
      "Epoch 23/200\n",
      "\u001B[1m171/171\u001B[0m \u001B[32m━━━━━━━━━━━━━━━━━━━━\u001B[0m\u001B[37m\u001B[0m \u001B[1m0s\u001B[0m 1ms/step - loss: 1420114.0000 - val_loss: 1376900.7500\n",
      "Epoch 24/200\n",
      "\u001B[1m171/171\u001B[0m \u001B[32m━━━━━━━━━━━━━━━━━━━━\u001B[0m\u001B[37m\u001B[0m \u001B[1m0s\u001B[0m 1ms/step - loss: 1413073.0000 - val_loss: 1367626.0000\n",
      "Epoch 25/200\n",
      "\u001B[1m171/171\u001B[0m \u001B[32m━━━━━━━━━━━━━━━━━━━━\u001B[0m\u001B[37m\u001B[0m \u001B[1m0s\u001B[0m 1ms/step - loss: 1409736.0000 - val_loss: 1338602.2500\n",
      "Epoch 26/200\n",
      "\u001B[1m171/171\u001B[0m \u001B[32m━━━━━━━━━━━━━━━━━━━━\u001B[0m\u001B[37m\u001B[0m \u001B[1m0s\u001B[0m 1ms/step - loss: 1340849.1250 - val_loss: 1355172.7500\n",
      "Epoch 27/200\n",
      "\u001B[1m171/171\u001B[0m \u001B[32m━━━━━━━━━━━━━━━━━━━━\u001B[0m\u001B[37m\u001B[0m \u001B[1m0s\u001B[0m 1ms/step - loss: 1391141.6250 - val_loss: 1354806.0000\n",
      "Epoch 28/200\n",
      "\u001B[1m171/171\u001B[0m \u001B[32m━━━━━━━━━━━━━━━━━━━━\u001B[0m\u001B[37m\u001B[0m \u001B[1m0s\u001B[0m 1ms/step - loss: 1309590.8750 - val_loss: 1336494.1250\n",
      "Epoch 29/200\n",
      "\u001B[1m171/171\u001B[0m \u001B[32m━━━━━━━━━━━━━━━━━━━━\u001B[0m\u001B[37m\u001B[0m \u001B[1m0s\u001B[0m 2ms/step - loss: 1303460.6250 - val_loss: 1326784.2500\n",
      "Epoch 30/200\n",
      "\u001B[1m171/171\u001B[0m \u001B[32m━━━━━━━━━━━━━━━━━━━━\u001B[0m\u001B[37m\u001B[0m \u001B[1m0s\u001B[0m 2ms/step - loss: 1323785.3750 - val_loss: 1305325.8750\n",
      "Epoch 31/200\n",
      "\u001B[1m171/171\u001B[0m \u001B[32m━━━━━━━━━━━━━━━━━━━━\u001B[0m\u001B[37m\u001B[0m \u001B[1m0s\u001B[0m 2ms/step - loss: 1357114.7500 - val_loss: 1372155.7500\n",
      "Epoch 32/200\n",
      "\u001B[1m171/171\u001B[0m \u001B[32m━━━━━━━━━━━━━━━━━━━━\u001B[0m\u001B[37m\u001B[0m \u001B[1m0s\u001B[0m 2ms/step - loss: 1335393.2500 - val_loss: 1340076.6250\n",
      "Epoch 33/200\n",
      "\u001B[1m171/171\u001B[0m \u001B[32m━━━━━━━━━━━━━━━━━━━━\u001B[0m\u001B[37m\u001B[0m \u001B[1m0s\u001B[0m 2ms/step - loss: 1354624.2500 - val_loss: 1324392.1250\n",
      "Epoch 34/200\n",
      "\u001B[1m171/171\u001B[0m \u001B[32m━━━━━━━━━━━━━━━━━━━━\u001B[0m\u001B[37m\u001B[0m \u001B[1m0s\u001B[0m 1ms/step - loss: 1376742.0000 - val_loss: 1292188.3750\n",
      "Epoch 35/200\n",
      "\u001B[1m171/171\u001B[0m \u001B[32m━━━━━━━━━━━━━━━━━━━━\u001B[0m\u001B[37m\u001B[0m \u001B[1m0s\u001B[0m 2ms/step - loss: 1358045.1250 - val_loss: 1291126.6250\n",
      "Epoch 36/200\n",
      "\u001B[1m171/171\u001B[0m \u001B[32m━━━━━━━━━━━━━━━━━━━━\u001B[0m\u001B[37m\u001B[0m \u001B[1m0s\u001B[0m 1ms/step - loss: 1428377.6250 - val_loss: 1297168.1250\n",
      "Epoch 37/200\n",
      "\u001B[1m171/171\u001B[0m \u001B[32m━━━━━━━━━━━━━━━━━━━━\u001B[0m\u001B[37m\u001B[0m \u001B[1m0s\u001B[0m 1ms/step - loss: 1358641.6250 - val_loss: 1351522.8750\n",
      "Epoch 38/200\n",
      "\u001B[1m171/171\u001B[0m \u001B[32m━━━━━━━━━━━━━━━━━━━━\u001B[0m\u001B[37m\u001B[0m \u001B[1m0s\u001B[0m 1ms/step - loss: 1389547.6250 - val_loss: 1308796.7500\n",
      "Epoch 39/200\n",
      "\u001B[1m171/171\u001B[0m \u001B[32m━━━━━━━━━━━━━━━━━━━━\u001B[0m\u001B[37m\u001B[0m \u001B[1m0s\u001B[0m 1ms/step - loss: 1310157.6250 - val_loss: 1310285.0000\n",
      "Epoch 40/200\n",
      "\u001B[1m171/171\u001B[0m \u001B[32m━━━━━━━━━━━━━━━━━━━━\u001B[0m\u001B[37m\u001B[0m \u001B[1m0s\u001B[0m 2ms/step - loss: 1321309.2500 - val_loss: 1298827.8750\n",
      "Epoch 41/200\n",
      "\u001B[1m171/171\u001B[0m \u001B[32m━━━━━━━━━━━━━━━━━━━━\u001B[0m\u001B[37m\u001B[0m \u001B[1m0s\u001B[0m 2ms/step - loss: 1385121.8750 - val_loss: 1286536.1250\n",
      "Epoch 42/200\n",
      "\u001B[1m171/171\u001B[0m \u001B[32m━━━━━━━━━━━━━━━━━━━━\u001B[0m\u001B[37m\u001B[0m \u001B[1m0s\u001B[0m 2ms/step - loss: 1368116.2500 - val_loss: 1299294.6250\n",
      "Epoch 43/200\n",
      "\u001B[1m171/171\u001B[0m \u001B[32m━━━━━━━━━━━━━━━━━━━━\u001B[0m\u001B[37m\u001B[0m \u001B[1m0s\u001B[0m 2ms/step - loss: 1376856.1250 - val_loss: 1295958.3750\n",
      "Epoch 44/200\n",
      "\u001B[1m171/171\u001B[0m \u001B[32m━━━━━━━━━━━━━━━━━━━━\u001B[0m\u001B[37m\u001B[0m \u001B[1m0s\u001B[0m 1ms/step - loss: 1272179.1250 - val_loss: 1415789.7500\n",
      "Epoch 45/200\n",
      "\u001B[1m171/171\u001B[0m \u001B[32m━━━━━━━━━━━━━━━━━━━━\u001B[0m\u001B[37m\u001B[0m \u001B[1m0s\u001B[0m 1ms/step - loss: 1391200.1250 - val_loss: 1305111.1250\n",
      "Epoch 46/200\n",
      "\u001B[1m171/171\u001B[0m \u001B[32m━━━━━━━━━━━━━━━━━━━━\u001B[0m\u001B[37m\u001B[0m \u001B[1m0s\u001B[0m 1ms/step - loss: 1342344.1250 - val_loss: 1323617.3750\n",
      "Epoch 47/200\n",
      "\u001B[1m171/171\u001B[0m \u001B[32m━━━━━━━━━━━━━━━━━━━━\u001B[0m\u001B[37m\u001B[0m \u001B[1m0s\u001B[0m 2ms/step - loss: 1295187.1250 - val_loss: 1292766.2500\n",
      "Epoch 48/200\n",
      "\u001B[1m171/171\u001B[0m \u001B[32m━━━━━━━━━━━━━━━━━━━━\u001B[0m\u001B[37m\u001B[0m \u001B[1m1s\u001B[0m 3ms/step - loss: 1274081.3750 - val_loss: 1272022.6250\n",
      "Epoch 49/200\n",
      "\u001B[1m171/171\u001B[0m \u001B[32m━━━━━━━━━━━━━━━━━━━━\u001B[0m\u001B[37m\u001B[0m \u001B[1m0s\u001B[0m 2ms/step - loss: 1243952.3750 - val_loss: 1293916.2500\n",
      "Epoch 50/200\n",
      "\u001B[1m171/171\u001B[0m \u001B[32m━━━━━━━━━━━━━━━━━━━━\u001B[0m\u001B[37m\u001B[0m \u001B[1m0s\u001B[0m 2ms/step - loss: 1326663.0000 - val_loss: 1285768.8750\n",
      "Epoch 51/200\n",
      "\u001B[1m171/171\u001B[0m \u001B[32m━━━━━━━━━━━━━━━━━━━━\u001B[0m\u001B[37m\u001B[0m \u001B[1m0s\u001B[0m 2ms/step - loss: 1289667.1250 - val_loss: 1270963.3750\n",
      "Epoch 52/200\n",
      "\u001B[1m171/171\u001B[0m \u001B[32m━━━━━━━━━━━━━━━━━━━━\u001B[0m\u001B[37m\u001B[0m \u001B[1m0s\u001B[0m 2ms/step - loss: 1331229.5000 - val_loss: 1271839.0000\n",
      "Epoch 53/200\n",
      "\u001B[1m171/171\u001B[0m \u001B[32m━━━━━━━━━━━━━━━━━━━━\u001B[0m\u001B[37m\u001B[0m \u001B[1m0s\u001B[0m 2ms/step - loss: 1293013.0000 - val_loss: 1292615.3750\n",
      "Epoch 54/200\n",
      "\u001B[1m171/171\u001B[0m \u001B[32m━━━━━━━━━━━━━━━━━━━━\u001B[0m\u001B[37m\u001B[0m \u001B[1m0s\u001B[0m 2ms/step - loss: 1311452.2500 - val_loss: 1288558.1250\n",
      "Epoch 55/200\n",
      "\u001B[1m171/171\u001B[0m \u001B[32m━━━━━━━━━━━━━━━━━━━━\u001B[0m\u001B[37m\u001B[0m \u001B[1m0s\u001B[0m 2ms/step - loss: 1304328.7500 - val_loss: 1300319.0000\n",
      "Epoch 56/200\n",
      "\u001B[1m171/171\u001B[0m \u001B[32m━━━━━━━━━━━━━━━━━━━━\u001B[0m\u001B[37m\u001B[0m \u001B[1m0s\u001B[0m 2ms/step - loss: 1297315.2500 - val_loss: 1283956.1250\n",
      "Epoch 57/200\n",
      "\u001B[1m171/171\u001B[0m \u001B[32m━━━━━━━━━━━━━━━━━━━━\u001B[0m\u001B[37m\u001B[0m \u001B[1m0s\u001B[0m 2ms/step - loss: 1328709.8750 - val_loss: 1278772.0000\n",
      "Epoch 58/200\n",
      "\u001B[1m171/171\u001B[0m \u001B[32m━━━━━━━━━━━━━━━━━━━━\u001B[0m\u001B[37m\u001B[0m \u001B[1m0s\u001B[0m 2ms/step - loss: 1290512.1250 - val_loss: 1334770.8750\n",
      "Epoch 59/200\n",
      "\u001B[1m171/171\u001B[0m \u001B[32m━━━━━━━━━━━━━━━━━━━━\u001B[0m\u001B[37m\u001B[0m \u001B[1m0s\u001B[0m 2ms/step - loss: 1334781.6250 - val_loss: 1269294.1250\n",
      "Epoch 60/200\n",
      "\u001B[1m171/171\u001B[0m \u001B[32m━━━━━━━━━━━━━━━━━━━━\u001B[0m\u001B[37m\u001B[0m \u001B[1m0s\u001B[0m 2ms/step - loss: 1330541.7500 - val_loss: 1270745.5000\n",
      "Epoch 61/200\n",
      "\u001B[1m171/171\u001B[0m \u001B[32m━━━━━━━━━━━━━━━━━━━━\u001B[0m\u001B[37m\u001B[0m \u001B[1m0s\u001B[0m 2ms/step - loss: 1312847.0000 - val_loss: 1297939.5000\n",
      "Epoch 62/200\n",
      "\u001B[1m171/171\u001B[0m \u001B[32m━━━━━━━━━━━━━━━━━━━━\u001B[0m\u001B[37m\u001B[0m \u001B[1m0s\u001B[0m 2ms/step - loss: 1265096.7500 - val_loss: 1284285.5000\n",
      "Epoch 63/200\n",
      "\u001B[1m171/171\u001B[0m \u001B[32m━━━━━━━━━━━━━━━━━━━━\u001B[0m\u001B[37m\u001B[0m \u001B[1m0s\u001B[0m 1ms/step - loss: 1300667.7500 - val_loss: 1315007.5000\n",
      "Epoch 64/200\n",
      "\u001B[1m171/171\u001B[0m \u001B[32m━━━━━━━━━━━━━━━━━━━━\u001B[0m\u001B[37m\u001B[0m \u001B[1m0s\u001B[0m 2ms/step - loss: 1269646.1250 - val_loss: 1289902.0000\n",
      "Epoch 65/200\n",
      "\u001B[1m171/171\u001B[0m \u001B[32m━━━━━━━━━━━━━━━━━━━━\u001B[0m\u001B[37m\u001B[0m \u001B[1m0s\u001B[0m 2ms/step - loss: 1216044.8750 - val_loss: 1277564.7500\n",
      "Epoch 66/200\n",
      "\u001B[1m171/171\u001B[0m \u001B[32m━━━━━━━━━━━━━━━━━━━━\u001B[0m\u001B[37m\u001B[0m \u001B[1m0s\u001B[0m 1ms/step - loss: 1286366.3750 - val_loss: 1271983.2500\n",
      "Epoch 67/200\n",
      "\u001B[1m171/171\u001B[0m \u001B[32m━━━━━━━━━━━━━━━━━━━━\u001B[0m\u001B[37m\u001B[0m \u001B[1m0s\u001B[0m 1ms/step - loss: 1426636.7500 - val_loss: 1261748.7500\n",
      "Epoch 68/200\n",
      "\u001B[1m171/171\u001B[0m \u001B[32m━━━━━━━━━━━━━━━━━━━━\u001B[0m\u001B[37m\u001B[0m \u001B[1m0s\u001B[0m 2ms/step - loss: 1295740.8750 - val_loss: 1316276.7500\n",
      "Epoch 69/200\n",
      "\u001B[1m171/171\u001B[0m \u001B[32m━━━━━━━━━━━━━━━━━━━━\u001B[0m\u001B[37m\u001B[0m \u001B[1m0s\u001B[0m 1ms/step - loss: 1309558.7500 - val_loss: 1325274.5000\n",
      "Epoch 70/200\n",
      "\u001B[1m171/171\u001B[0m \u001B[32m━━━━━━━━━━━━━━━━━━━━\u001B[0m\u001B[37m\u001B[0m \u001B[1m0s\u001B[0m 2ms/step - loss: 1317232.3750 - val_loss: 1271697.2500\n",
      "Epoch 71/200\n",
      "\u001B[1m171/171\u001B[0m \u001B[32m━━━━━━━━━━━━━━━━━━━━\u001B[0m\u001B[37m\u001B[0m \u001B[1m0s\u001B[0m 2ms/step - loss: 1296629.1250 - val_loss: 1272664.3750\n",
      "Epoch 72/200\n",
      "\u001B[1m171/171\u001B[0m \u001B[32m━━━━━━━━━━━━━━━━━━━━\u001B[0m\u001B[37m\u001B[0m \u001B[1m0s\u001B[0m 2ms/step - loss: 1301714.8750 - val_loss: 1273528.3750\n",
      "Epoch 73/200\n",
      "\u001B[1m171/171\u001B[0m \u001B[32m━━━━━━━━━━━━━━━━━━━━\u001B[0m\u001B[37m\u001B[0m \u001B[1m0s\u001B[0m 2ms/step - loss: 1310293.7500 - val_loss: 1270512.6250\n",
      "Epoch 74/200\n",
      "\u001B[1m171/171\u001B[0m \u001B[32m━━━━━━━━━━━━━━━━━━━━\u001B[0m\u001B[37m\u001B[0m \u001B[1m0s\u001B[0m 2ms/step - loss: 1298853.1250 - val_loss: 1329126.3750\n",
      "Epoch 75/200\n",
      "\u001B[1m171/171\u001B[0m \u001B[32m━━━━━━━━━━━━━━━━━━━━\u001B[0m\u001B[37m\u001B[0m \u001B[1m0s\u001B[0m 2ms/step - loss: 1389626.6250 - val_loss: 1313866.5000\n",
      "Epoch 76/200\n",
      "\u001B[1m171/171\u001B[0m \u001B[32m━━━━━━━━━━━━━━━━━━━━\u001B[0m\u001B[37m\u001B[0m \u001B[1m0s\u001B[0m 2ms/step - loss: 1239649.6250 - val_loss: 1272201.2500\n",
      "Epoch 77/200\n",
      "\u001B[1m171/171\u001B[0m \u001B[32m━━━━━━━━━━━━━━━━━━━━\u001B[0m\u001B[37m\u001B[0m \u001B[1m0s\u001B[0m 1ms/step - loss: 1288867.6250 - val_loss: 1422064.5000\n",
      "\u001B[1m54/54\u001B[0m \u001B[32m━━━━━━━━━━━━━━━━━━━━\u001B[0m\u001B[37m\u001B[0m \u001B[1m0s\u001B[0m 2ms/step  \n",
      "Deep Learning Model R2: 0.6163204975375334\n"
     ]
    },
    {
     "data": {
      "text/plain": [
       "<Figure size 800x600 with 1 Axes>"
      ],
      "image/png": "[encoded data removed]"
     },
     "metadata": {},
     "output_type": "display_data"
    }
   ],
   "execution_count": 52
  },
  {
   "metadata": {
    "ExecuteTime": {
     "end_time": "2024-12-09T11:40:45.030833Z",
     "start_time": "2024-12-09T11:40:45.026837Z"
    }
   },
   "cell_type": "code",
   "source": [
    "# Analysis of the model's performance from the plot\n",
    "# - The training loss decreases steadily with each epoch, indicating that the model is learning well from the training data.\n",
    "# - The validation loss follows the training loss closely at the start, but starts to diverge slightly towards the end, suggesting potential overfitting.\n",
    "# - The early stopping mechanism successfully halts the training, preventing unnecessary training and likely overfitting.\n",
    "# - Overall, the model seems to perform well, with the early stopping callback helping to maintain a balance between underfitting and overfitting."
   ],
   "id": "f79299b1ce8063c2",
   "outputs": [],
   "execution_count": 53
  },
  {
   "metadata": {},
   "cell_type": "code",
   "outputs": [],
   "execution_count": null,
   "source": "",
   "id": "c726629f4c4c0e4b"
  },
  {
   "metadata": {
    "ExecuteTime": {
     "end_time": "2024-12-09T11:39:11.192747Z",
     "start_time": "2024-12-09T11:39:11.189409Z"
    }
   },
   "cell_type": "code",
   "source": "",
   "id": "e2d89ecc181ac4da",
   "outputs": [],
   "execution_count": null
  },
  {
   "metadata": {},
   "cell_type": "code",
   "outputs": [],
   "execution_count": null,
   "source": "",
   "id": "85164930311a80e1"
  },
  {
   "metadata": {},
   "cell_type": "code",
   "outputs": [],
   "execution_count": null,
   "source": "",
   "id": "74c954e33bd3ca3b"
  }
 ],
 "metadata": {
  "kernelspec": {
   "display_name": "Python 3",
   "language": "python",
   "name": "python3"
  },
  "language_info": {
   "codemirror_mode": {
    "name": "ipython",
    "version": 2
   },
   "file_extension": ".py",
   "mimetype": "text/x-python",
   "name": "python",
   "nbconvert_exporter": "python",
   "pygments_lexer": "ipython2",
   "version": "2.7.6"
  }
 },
 "nbformat": 4,
 "nbformat_minor": 5
}
